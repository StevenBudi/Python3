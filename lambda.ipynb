{
 "metadata": {
  "language_info": {
   "codemirror_mode": {
    "name": "ipython",
    "version": 3
   },
   "file_extension": ".py",
   "mimetype": "text/x-python",
   "name": "python",
   "nbconvert_exporter": "python",
   "pygments_lexer": "ipython3",
   "version": "3.8.3-final"
  },
  "orig_nbformat": 2,
  "kernelspec": {
   "name": "python3",
   "display_name": "Python 3",
   "language": "python"
  }
 },
 "nbformat": 4,
 "nbformat_minor": 2,
 "cells": [
  {
   "cell_type": "code",
   "execution_count": 1,
   "metadata": {},
   "outputs": [
    {
     "output_type": "stream",
     "name": "stdout",
     "text": [
      "Hello World\n"
     ]
    }
   ],
   "source": [
    "print(\"Hello World\")"
   ]
  },
  {
   "cell_type": "code",
   "execution_count": 2,
   "metadata": {},
   "outputs": [
    {
     "output_type": "execute_result",
     "data": {
      "text/plain": [
       "25"
      ]
     },
     "metadata": {},
     "execution_count": 2
    }
   ],
   "source": [
    "x = lambda x : x if x > 0 else 10\n",
    "#x(20)\n",
    "square = lambda x : x**2\n",
    "square(5)"
   ]
  },
  {
   "cell_type": "code",
   "execution_count": 3,
   "metadata": {},
   "outputs": [
    {
     "output_type": "stream",
     "name": "stdout",
     "text": [
      "[2, 4, 6, 8] \n [None, 2, None, 4, None, 6, None, 8, None]\n"
     ]
    }
   ],
   "source": [
    "list_0 = [x for x in range(1, 10)]\n",
    "filterList_1 = list(filter(lambda x : x %2 == 0, list_0))\n",
    "mapList_1 = list(map(lambda x : x if x%2==0 else None, list_0))\n",
    "print(filterList_1,\"\\n\", mapList_1)"
   ]
  },
  {
   "cell_type": "code",
   "execution_count": 4,
   "metadata": {},
   "outputs": [
    {
     "output_type": "execute_result",
     "data": {
      "text/plain": [
       "[[0, 2], [3, 2]]"
      ]
     },
     "metadata": {},
     "execution_count": 4
    }
   ],
   "source": [
    "block = [[0,2], [3,2], [10,1]]\n",
    "list_2 = list(filter(lambda x : x[0] + x[1] < 10, block))\n",
    "list_2"
   ]
  },
  {
   "cell_type": "code",
   "execution_count": 5,
   "metadata": {},
   "outputs": [
    {
     "output_type": "execute_result",
     "data": {
      "text/plain": [
       "[0, 2, 6, 12, 20, 30, 42, 56, 72, 90]"
      ]
     },
     "metadata": {},
     "execution_count": 5
    }
   ],
   "source": [
    "list_3 = [x for x in range(10)]\n",
    "new_list = list(map(lambda x : x**2 + x, list_3))\n",
    "new_list"
   ]
  },
  {
   "cell_type": "code",
   "execution_count": 6,
   "metadata": {},
   "outputs": [
    {
     "output_type": "execute_result",
     "data": {
      "text/plain": [
       "[2, 4, 7]"
      ]
     },
     "metadata": {},
     "execution_count": 6
    }
   ],
   "source": [
    "myList = [[1, 2, 3],\n",
    "         [3, 4, 5],\n",
    "         [6, 7, 8]]\n",
    "newList = list(map(lambda x : x[1], myList))\n",
    "newList"
   ]
  },
  {
   "cell_type": "code",
   "execution_count": 7,
   "metadata": {},
   "outputs": [
    {
     "output_type": "execute_result",
     "data": {
      "text/plain": [
       "[6, 12, 21]"
      ]
     },
     "metadata": {},
     "execution_count": 7
    }
   ],
   "source": [
    "sumList  = list(map(lambda x : sum(x), myList))\n",
    "sumList"
   ]
  },
  {
   "cell_type": "code",
   "execution_count": 8,
   "metadata": {},
   "outputs": [
    {
     "output_type": "execute_result",
     "data": {
      "text/plain": [
       "[2000, 6000, 1750, 8250]"
      ]
     },
     "metadata": {},
     "execution_count": 8
    }
   ],
   "source": [
    "transaction = [[101, 1000, 2],\n",
    "              [102, 1500, 4],\n",
    "              [103, 1750, 1],\n",
    "              [104, 1650, 5]]\n",
    "\n",
    "newList = list(map(lambda x : x[1]*x[2], transaction))\n",
    "newList"
   ]
  },
  {
   "cell_type": "code",
   "execution_count": 9,
   "metadata": {},
   "outputs": [],
   "source": [
    "import os\n",
    "os.chdir(\"C:\\\\Users\\ASUS\\Documents\\Python\")"
   ]
  },
  {
   "cell_type": "code",
   "execution_count": 10,
   "metadata": {},
   "outputs": [],
   "source": [
    "import pandas as pd\n",
    "db = pd.read_excel(\"Sample - Superstore.xls\")"
   ]
  },
  {
   "cell_type": "code",
   "execution_count": 11,
   "metadata": {},
   "outputs": [],
   "source": [
    "db = db[db[\"Profit\"].apply(lambda x : x < 0)].reset_index(inplace=False).drop(columns=\"index\")"
   ]
  },
  {
   "cell_type": "code",
   "execution_count": 12,
   "metadata": {},
   "outputs": [
    {
     "output_type": "execute_result",
     "data": {
      "text/plain": [
       "      Row ID        Order ID Order Date  Ship Date       Ship Mode  \\\n",
       "1398    7773  CA-2016-108196 2016-11-25 2016-12-02  Standard Class   \n",
       "146      684  US-2017-168116 2017-11-04 2017-11-04        Same Day   \n",
       "1834    9775  CA-2014-169019 2014-07-26 2014-07-30  Standard Class   \n",
       "\n",
       "     Customer ID   Customer Name    Segment        Country         City  ...  \\\n",
       "1398    CS-12505   Cindy Stewart   Consumer  United States    Lancaster  ...   \n",
       "146     GT-14635  Grant Thornton  Corporate  United States   Burlington  ...   \n",
       "1834    LF-17185     Luke Foster   Consumer  United States  San Antonio  ...   \n",
       "\n",
       "     Postal Code   Region       Product ID         Category Sub-Category  \\\n",
       "1398       43130     East  TEC-MA-10000418       Technology     Machines   \n",
       "146        27217    South  TEC-MA-10004125       Technology     Machines   \n",
       "1834       78207  Central  OFF-BI-10004995  Office Supplies      Binders   \n",
       "\n",
       "                                   Product Name     Sales  Quantity  Discount  \\\n",
       "1398  Cubify CubeX 3D Printer Double Head Print  4499.985         5       0.7   \n",
       "146   Cubify CubeX 3D Printer Triple Head Print  7999.980         4       0.5   \n",
       "1834  GBC DocuBind P400 Electric Binding System  2177.584         8       0.8   \n",
       "\n",
       "         Profit  \n",
       "1398 -6599.9780  \n",
       "146  -3839.9904  \n",
       "1834 -3701.8928  \n",
       "\n",
       "[3 rows x 21 columns]"
      ],
      "text/html": "<div>\n<style scoped>\n    .dataframe tbody tr th:only-of-type {\n        vertical-align: middle;\n    }\n\n    .dataframe tbody tr th {\n        vertical-align: top;\n    }\n\n    .dataframe thead th {\n        text-align: right;\n    }\n</style>\n<table border=\"1\" class=\"dataframe\">\n  <thead>\n    <tr style=\"text-align: right;\">\n      <th></th>\n      <th>Row ID</th>\n      <th>Order ID</th>\n      <th>Order Date</th>\n      <th>Ship Date</th>\n      <th>Ship Mode</th>\n      <th>Customer ID</th>\n      <th>Customer Name</th>\n      <th>Segment</th>\n      <th>Country</th>\n      <th>City</th>\n      <th>...</th>\n      <th>Postal Code</th>\n      <th>Region</th>\n      <th>Product ID</th>\n      <th>Category</th>\n      <th>Sub-Category</th>\n      <th>Product Name</th>\n      <th>Sales</th>\n      <th>Quantity</th>\n      <th>Discount</th>\n      <th>Profit</th>\n    </tr>\n  </thead>\n  <tbody>\n    <tr>\n      <th>1398</th>\n      <td>7773</td>\n      <td>CA-2016-108196</td>\n      <td>2016-11-25</td>\n      <td>2016-12-02</td>\n      <td>Standard Class</td>\n      <td>CS-12505</td>\n      <td>Cindy Stewart</td>\n      <td>Consumer</td>\n      <td>United States</td>\n      <td>Lancaster</td>\n      <td>...</td>\n      <td>43130</td>\n      <td>East</td>\n      <td>TEC-MA-10000418</td>\n      <td>Technology</td>\n      <td>Machines</td>\n      <td>Cubify CubeX 3D Printer Double Head Print</td>\n      <td>4499.985</td>\n      <td>5</td>\n      <td>0.7</td>\n      <td>-6599.9780</td>\n    </tr>\n    <tr>\n      <th>146</th>\n      <td>684</td>\n      <td>US-2017-168116</td>\n      <td>2017-11-04</td>\n      <td>2017-11-04</td>\n      <td>Same Day</td>\n      <td>GT-14635</td>\n      <td>Grant Thornton</td>\n      <td>Corporate</td>\n      <td>United States</td>\n      <td>Burlington</td>\n      <td>...</td>\n      <td>27217</td>\n      <td>South</td>\n      <td>TEC-MA-10004125</td>\n      <td>Technology</td>\n      <td>Machines</td>\n      <td>Cubify CubeX 3D Printer Triple Head Print</td>\n      <td>7999.980</td>\n      <td>4</td>\n      <td>0.5</td>\n      <td>-3839.9904</td>\n    </tr>\n    <tr>\n      <th>1834</th>\n      <td>9775</td>\n      <td>CA-2014-169019</td>\n      <td>2014-07-26</td>\n      <td>2014-07-30</td>\n      <td>Standard Class</td>\n      <td>LF-17185</td>\n      <td>Luke Foster</td>\n      <td>Consumer</td>\n      <td>United States</td>\n      <td>San Antonio</td>\n      <td>...</td>\n      <td>78207</td>\n      <td>Central</td>\n      <td>OFF-BI-10004995</td>\n      <td>Office Supplies</td>\n      <td>Binders</td>\n      <td>GBC DocuBind P400 Electric Binding System</td>\n      <td>2177.584</td>\n      <td>8</td>\n      <td>0.8</td>\n      <td>-3701.8928</td>\n    </tr>\n  </tbody>\n</table>\n<p>3 rows × 21 columns</p>\n</div>"
     },
     "metadata": {},
     "execution_count": 12
    }
   ],
   "source": [
    "db.sort_values(by=\"Profit\").head(3)"
   ]
  },
  {
   "cell_type": "code",
   "execution_count": 13,
   "metadata": {},
   "outputs": [],
   "source": [
    "nonProfit = {}\n",
    "for _,j in db.iterrows():\n",
    "    key = j[\"Order ID\"]\n",
    "    if key not in nonProfit.keys():\n",
    "        nonProfit[key] = round(j[\"Profit\"], 3)\n",
    "    else :\n",
    "        nonProfit[key] += round(j[\"Profit\"], 3)"
   ]
  },
  {
   "cell_type": "code",
   "execution_count": 14,
   "metadata": {
    "tags": []
   },
   "outputs": [
    {
     "output_type": "stream",
     "name": "stdout",
     "text": [
      "-109857.84100000003\n"
     ]
    }
   ],
   "source": [
    "sumCA = sum(list(map(lambda x: x[1] if x[0][:2] == \"CA\" else 0, nonProfit.items())))\n",
    "print(sumCA)"
   ]
  },
  {
   "cell_type": "code",
   "execution_count": 15,
   "metadata": {},
   "outputs": [
    {
     "output_type": "stream",
     "name": "stdout",
     "text": [
      "-46273.46899999999\n"
     ]
    }
   ],
   "source": [
    "sumUS = sum(list(map(lambda x: x[1] if x[0][:2] == \"US\" else 0, nonProfit.items())))\n",
    "print(sumUS)"
   ]
  },
  {
   "cell_type": "code",
   "execution_count": null,
   "metadata": {},
   "outputs": [],
   "source": []
  }
 ]
}