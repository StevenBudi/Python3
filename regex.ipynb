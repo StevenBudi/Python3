{
 "metadata": {
  "language_info": {
   "codemirror_mode": {
    "name": "ipython",
    "version": 3
   },
   "file_extension": ".py",
   "mimetype": "text/x-python",
   "name": "python",
   "nbconvert_exporter": "python",
   "pygments_lexer": "ipython3",
   "version": "3.8.3-final"
  },
  "orig_nbformat": 2,
  "kernelspec": {
   "name": "python3",
   "display_name": "Python 3",
   "language": "python"
  }
 },
 "nbformat": 4,
 "nbformat_minor": 2,
 "cells": [
  {
   "cell_type": "code",
   "execution_count": 59,
   "metadata": {},
   "outputs": [],
   "source": [
    "import re"
   ]
  },
  {
   "cell_type": "code",
   "execution_count": 60,
   "metadata": {},
   "outputs": [
    {
     "output_type": "stream",
     "name": "stdout",
     "text": [
      "['cuci', 'mencuci']\n"
     ]
    }
   ],
   "source": [
    "s = \"mesin cuci adalah alat untuk mencuci\"\n",
    "x = re.findall(\"[a-z]*uci\", s)\n",
    "print(x)"
   ]
  },
  {
   "cell_type": "code",
   "execution_count": 61,
   "metadata": {},
   "outputs": [
    {
     "output_type": "stream",
     "name": "stdout",
     "text": [
      "['A1', 'A2', 'B1', 'B2', 'B2P', 'B2R', 'B4', 'C1', 'C2']\n"
     ]
    }
   ],
   "source": [
    "s = \"Palapa A1, A2, B1, B2, B2P, B2R, B4, C1, dan C2 adalah satelit milik RI\"\n",
    "x = re.findall(\"[A-Z][0-9][A-Z]?\", s)\n",
    "print(x)"
   ]
  },
  {
   "cell_type": "code",
   "execution_count": 62,
   "metadata": {},
   "outputs": [
    {
     "output_type": "stream",
     "name": "stdout",
     "text": [
      "A1\n7\n"
     ]
    }
   ],
   "source": [
    "s = \"Palapa A1, A2, B1, B2, B2P, B2R, B4, C1, dan C2 adalah satelit milik RI\"\n",
    "x = re.search(\"[A-Z][0-9][A-Z]?\", s)\n",
    "print(x.group())\n",
    "print(x.start())"
   ]
  },
  {
   "cell_type": "code",
   "execution_count": 63,
   "metadata": {},
   "outputs": [
    {
     "output_type": "execute_result",
     "data": {
      "text/plain": [
       "False"
      ]
     },
     "metadata": {},
     "execution_count": 63
    }
   ],
   "source": [
    "def StringChecker(s):\n",
    "    x = re.search(\"[\\W]+\", s)\n",
    "    return not bool(x)\n",
    "\n",
    "StringChecker(\"joni12+3onoasd\")"
   ]
  },
  {
   "cell_type": "code",
   "execution_count": 64,
   "metadata": {},
   "outputs": [
    {
     "output_type": "execute_result",
     "data": {
      "text/plain": [
       "['+628970025455', '+628970026455', '+62809991031']"
      ]
     },
     "metadata": {},
     "execution_count": 64
    }
   ],
   "source": [
    "no = \"+628970025455 dan +628970026455 juga +62a1900245 tambah +62809991031\"\n",
    "\n",
    "def findall(s):\n",
    "    x = re.findall(\"[+]62[0-9]{8,10}\", s)\n",
    "    return x\n",
    "findall(no)"
   ]
  },
  {
   "cell_type": "code",
   "execution_count": 65,
   "metadata": {},
   "outputs": [
    {
     "output_type": "stream",
     "name": "stdout",
     "text": [
      "Valid\n"
     ]
    }
   ],
   "source": [
    "def emailChecker(s):\n",
    "    x = re.findall(\"^[a-zA-Z][\\w\\-\\.]+@[\\w\\-]+[\\.][a-zA-Z]{2,3}$\", s)\n",
    "    if(x):\n",
    "        print(\"Valid\")\n",
    "    else :\n",
    "        print(\"Tidak Valid\")\n",
    "\n",
    "emailChecker(\"steven9c37@gmail.com\")"
   ]
  },
  {
   "cell_type": "code",
   "execution_count": 66,
   "metadata": {},
   "outputs": [
    {
     "output_type": "stream",
     "name": "stdout",
     "text": [
      "False\n"
     ]
    }
   ],
   "source": [
    "def bChechker(s):\n",
    "    x = re.findall(\"^a[b]+\", s)\n",
    "    if x:\n",
    "        print(True)\n",
    "    else :\n",
    "        print(False)\n",
    "bChechker(\"aabbbc\")"
   ]
  },
  {
   "cell_type": "code",
   "execution_count": 67,
   "metadata": {},
   "outputs": [
    {
     "output_type": "stream",
     "name": "stdout",
     "text": [
      "False\n"
     ]
    }
   ],
   "source": [
    "def bChecker2(s):\n",
    "    x = re.findall(\"^a[b]{2,3}\", s)\n",
    "    if x:\n",
    "        print(True)\n",
    "    else :\n",
    "        print(False)\n",
    "\n",
    "bChecker2(\"ab\")"
   ]
  },
  {
   "cell_type": "code",
   "execution_count": 68,
   "metadata": {},
   "outputs": [
    {
     "output_type": "execute_result",
     "data": {
      "text/plain": [
       "['c_', 'g_']"
      ]
     },
     "metadata": {},
     "execution_count": 68
    }
   ],
   "source": [
    "def underFinder(s):\n",
    "    x = re.findall(\"[a-z][\\_]\", s)\n",
    "    return x\n",
    "\n",
    "underFinder(\"abc_defg_hiJ_\")"
   ]
  },
  {
   "cell_type": "code",
   "execution_count": 69,
   "metadata": {},
   "outputs": [],
   "source": [
    "univ = \"Berikut ini beberapa nama-nama universitas di Indonesia : Universitas Indonesia (UI), situs web www.ui.ac.id; Institut Teknologi Bandung (ITB), situs web www.itb.ac.id; Universitas Sebelas Maret (UNS), situs web www.uns.ac.id; Universitas Gajah Mada (UGM), situs web www.ugm.ac.id\""
   ]
  },
  {
   "cell_type": "code",
   "execution_count": 70,
   "metadata": {},
   "outputs": [
    {
     "output_type": "stream",
     "name": "stdout",
     "text": [
      " Universitas Indonesia \n Institut Teknologi Bandung \n Universitas Sebelas Maret \n Universitas Gajah Mada \n"
     ]
    }
   ],
   "source": [
    "pattern_0 = re.compile(r\"[:|;]\\s[A-Z][A-Za-z\\s]+[\\(]\")\n",
    "match_0 = re.findall(pattern_0, univ)\n",
    "for match in match_0:\n",
    "    print(re.sub(\"[^\\w\\s]\", \"\", match))"
   ]
  },
  {
   "cell_type": "code",
   "execution_count": 71,
   "metadata": {},
   "outputs": [
    {
     "output_type": "stream",
     "name": "stdout",
     "text": [
      "UI\n",
      "ITB\n",
      "UNS\n",
      "UGM\n"
     ]
    }
   ],
   "source": [
    "pattern_1 = re.compile(r\"([A-Z]{2,3})\")\n",
    "match_1 = re.findall(pattern_1, univ)\n",
    "for match in match_1:\n",
    "    print(re.sub(\"[^\\w\\s]\", \"\", match))"
   ]
  },
  {
   "cell_type": "code",
   "execution_count": 72,
   "metadata": {},
   "outputs": [
    {
     "output_type": "stream",
     "name": "stdout",
     "text": [
      "www.ui.ac.id\nwww.itb.ac.id\nwww.uns.ac.id\nwww.ugm.ac.id\n"
     ]
    }
   ],
   "source": [
    "pattern_2 = re.compile(r\"www[\\.a-z]+\")\n",
    "match_2 = re.findall(pattern_2, univ)\n",
    "for match in match_2:\n",
    "    print(match)"
   ]
  },
  {
   "cell_type": "code",
   "execution_count": 73,
   "metadata": {},
   "outputs": [
    {
     "output_type": "stream",
     "name": "stdout",
     "text": [
      "True\n"
     ]
    }
   ],
   "source": [
    "pattern_3 = re.compile(r\"(?=.*[a-z])(?=.*[A-Z])(?=.*[\\d])[a-zA-Z0-9]{8,}\")\n",
    "#(?=.*[a-z]) = any char plus at least one from a-z\n",
    "#(?=.*[A-Z]) = any char plus at least one from A-Z\n",
    "#(?=.*[\\d])  = any char plus at least one from 0-9\n",
    "#[a-zA-Z0-9]{8,} = any from a-z, A-Z, or 0-9 but the length must at least 8 char\n",
    "passwd = str(input(\"Masukkan Password   : \"))\n",
    "\n",
    "match_3 = re.fullmatch(pattern_3, passwd)\n",
    "print(bool(match_3))\n"
   ]
  },
  {
   "cell_type": "code",
   "execution_count": 74,
   "metadata": {},
   "outputs": [],
   "source": [
    "from urllib.request import urlopen\n",
    "response = urlopen(\"http://rosihanari.net\")\n",
    "htmlResourse = response.read()\n",
    "response.close()"
   ]
  },
  {
   "cell_type": "code",
   "execution_count": 75,
   "metadata": {},
   "outputs": [
    {
     "output_type": "stream",
     "name": "stdout",
     "text": [
      "b'<!DOCTYPE html>\\n<html>\\n<title>Rosihan Ari Yuana</title>\\n<meta name=\"viewport\" content=\"width=device-width, initial-scale=1\">\\n<link rel=\"stylesheet\" href=\"style.css\">\\n<link rel=\\'stylesheet\\' href=\\'https://fonts.googleapis.com/css?family=Roboto\\'>\\n<link rel=\"stylesheet\" href=\"https://use.fontawesome.com/releases/v5.6.3/css/all.css\" integrity=\"sha384-UHRtZLI+pbxtHCWp1t77Bi1L4ZtiqrqD80Kn4Z8NTSRyMA2Fd33n5dQ8lWUE00s/\" crossorigin=\"anonymous\">\\n<link rel=\"stylesheet\" href=\"https://cdn.rawgit.com/jpswalsh/academicons/master/css/academicons.min.css\">\\n<style>\\nhtml,body,h1,h2,h3,h4,h5,h6 {font-family: \"Roboto\", sans-serif}\\n</style>\\n<body class=\"w3-light-grey\">\\n\\n<!-- Page Container -->\\n<div class=\"w3-container w3-content w3-margin-top\" style=\"max-width:1400px;\">\\n\\n  <!-- The Grid -->\\n  <div class=\"w3-row-padding\" style=\"margin:0 -16px\">\\n  \\n    <!-- Left Column -->\\n    <div class=\"w3-third\">\\n    \\n      <div class=\"w3-white w3-text-grey w3-card-4\">\\n        <div class=\"w3-container\">\\n          <img src=\"/images/myfoto.jpg\" style=\"width:40%; margin-top: 20px;\" alt=\"Avatar\">\\n        </div>\\n\\t<div class=\"w3-container\">\\n          <h1 style=\"font-size: 30px;\">Rosihan Ari Yuana</h1>\\n        </div>\\n        <div class=\"w3-container\">\\n          <p><i class=\"fa fa-briefcase fa-fw w3-margin-right w3-large w3-text-teal\"></i>Lecturer, Programmer, Writer</p>\\n          <p><i class=\"fa fa-home fa-fw w3-margin-right w3-large w3-text-teal\"></i><div style=\"margin-top: -35px; margin-left: 39px; \">Perum. Indra Indah 38, Colomadu, Karanganyar.<br>Jawa Tengah</div></p>\\n          <p><i class=\"fa fa-envelope fa-fw w3-margin-right w3-large w3-text-teal\"></i><a href=\"mailto:rosihanari@staff.uns.ac.id\">rosihanari@staff.uns.ac.id</a></p>\\n          <p><i class=\"fa fa-phone fa-fw w3-margin-right w3-large w3-text-teal\"></i>Mobile Phone: <a href=\"tel:+6285716191979\">+62 857-1619-1979</a></p>\\n\\t  <p><i class=\"fab fa-whatsapp fa-fw w3-margin-right w3-large w3-text-teal\"></i>WhatsApp: <a href=\"https://wa.me/6285716191979\"target=\"_blank\">+62 857-1619-1979</a></p>\\n\\n\\t  <p><i class=\"fab fa-facebook fa-fw w3-margin-right w3-large w3-text-teal\"></i><a href=\"http://facebook.com/rosihanari\" target=\"_blank\">My Facebook Profile</a></p>\\t\\n\\t  <p><i class=\"fab fa-wordpress fa-fw w3-margin-right w3-large w3-text-teal\"></i><a href=\"http://blog.rosihanari.net\" target=\"_blank\">My Personal Blog</a></p>\\t\\n\\t  <p><i class=\"fab fa-linkedin fa-fw w3-margin-right w3-large w3-text-teal\"></i><a href=\"https://www.linkedin.com/in/rosihanari\" target=\"_blank\">My LinkedIn Profile</a></p>\\n\\t  <p><i class=\"ai ai-google-scholar ai-3x fa-fw w3-margin-right w3-large w3-text-teal\"></i><a href=\"https://scholar.google.co.id/citations?user=HoYTzTkAAAAJ\" target=\"_blank\">My Publications</a></p>\\n\\t  <p><i class=\"fab fa-researchgate fa-fw w3-margin-right w3-large w3-text-teal\"></i><a href=\"https://www.researchgate.net/profile/Rosihan_Yuana\" target=\"_blank\">My ResearchGate Profile</a></p>\\n\\n          <hr>\\n\\n          <p class=\"w3-large\"><b><i class=\"fa fa-asterisk fa-fw w3-margin-right w3-text-teal\"></i>Programming Skills</b></p>\\n          <p>Native PHP</p>\\n          <div class=\"w3-progress-container w3-round-xlarge w3-small\">\\n            <div class=\"w3-progressbar w3-round-xlarge w3-teal\" style=\"width:95%\">\\n              <div class=\"w3-center w3-text-white\">95%</div>\\n            </div>\\n          </div>\\n          <p>Python</p>\\n          <div class=\"w3-progress-container w3-round-xlarge w3-small\">\\n            <div class=\"w3-progressbar w3-round-xlarge w3-teal\" style=\"width:90%\">\\n              <div class=\"w3-center w3-text-white\">90%</div>\\n            </div>\\n          </div>\\n\\n \\t  <p>PHP Framework (CodeIgniter)</p>\\n          <div class=\"w3-progress-container w3-round-xlarge w3-small\">\\n            <div class=\"w3-progressbar w3-round-xlarge w3-teal\" style=\"width:90%\">\\n              <div class=\"w3-center w3-text-white\">90%</div>\\n            </div>\\n          </div>\\n\\n          <p>Java</p>\\n          <div class=\"w3-progress-container w3-round-xlarge w3-small\">\\n            <div class=\"w3-progressbar w3-round-xlarge w3-teal\" style=\"width:75%\">\\n              <div class=\"w3-center w3-text-white\">75%</div>\\n            </div>\\n          </div>\\n         <p>Pascal</p>\\n          <div class=\"w3-progress-container w3-round-xlarge w3-small\">\\n            <div class=\"w3-progressbar w3-round-xlarge w3-teal\" style=\"width:90%\">\\n              <div class=\"w3-center w3-text-white\">90%</div>\\n            </div>\\n          </div>\\n         <p>C/C++</p>\\n          <div class=\"w3-progress-container w3-round-xlarge w3-small\">\\n            <div class=\"w3-progressbar w3-round-xlarge w3-teal\" style=\"width:70%\">\\n              <div class=\"w3-center w3-text-white\">70%</div>\\n            </div>\\n          </div>\\n          \\n          <br>\\n        </div>\\n      </div><br>\\n\\n    <!-- End Left Column -->\\n    </div>\\n\\n    <!-- Right Column -->\\n    <div class=\"w3-twothird\">\\n    \\n      <div class=\"w3-container w3-card-2 w3-white w3-margin-bottom\">\\n        <h2 class=\"w3-text-grey w3-padding-16\"><i class=\"fa fa-suitcase fa-fw w3-margin-right w3-xxlarge w3-text-teal\"></i>Works Experience</h2>\\n        <div class=\"w3-container\">\\n          <h5 class=\"w3-opacity\"><b>Lecturer / Sebelas Maret University</b></h5>\\n          <h6 class=\"w3-text-teal\"><i class=\"fa fa-calendar fa-fw w3-margin-right\"></i>Dec 2002 - <span class=\"w3-tag w3-teal w3-round\">Current</span></h6>\\n          <p>Former lecturer at Department of Mathematics Education (Dec 2002 - Jun 2012)</p>\\n\\t  <p>Formal lecturer at Department of Informatics and Computer Education (Jun 2012 - Current)</p>\\n          <hr>\\n        </div>\\n        <div class=\"w3-container\">\\n          <h5 class=\"w3-opacity\"><b>Content Editor / Quipper.com</b></h5>\\n          <h6 class=\"w3-text-teal\"><i class=\"fa fa-calendar fa-fw w3-margin-right\"></i>Jun 2015 - Aug 2015</h6>\\n          <p>Mathematics assessment content editor</p>\\n          <hr>\\n        </div>\\n        <div class=\"w3-container\">\\n          <h5 class=\"w3-opacity\"><b>Book Writer</b></h5>\\n          <h6 class=\"w3-text-teal\"><i class=\"fa fa-calendar fa-fw w3-margin-right\"></i>2006 - <span class=\"w3-tag w3-teal w3-round\">Current</span></h6>\\n          <p>Mathematics book for high school. <b>Book Title</b>: Perspektif Matematika X. <b>Publisher</b>: Tiga Serangkai. (2006 - current)</p>\\n          <p>Mathematics book for high school. <b>Book Title</b>: Perspektif Matematika XI. <b>Publisher</b>: Tiga Serangkai. (2006 - current)</p>\\n          <p>Mathematics book for high school. <b>Book Title</b>: Perspektif Matematika XII. <b>Publisher</b>: Tiga Serangkai. (2006 - current)</p>\\n\\t  <p>Programming book. <b>Book Title</b>: 67 Trik dan Ide Brilian Master PHP. <b>Publisher</b>: Lokomedia. (2010)</p>\\n\\t  <p>Mathematics Text Book. <b>Book Title</b>: Kalkulus dengan Maple. <b>Publisher</b>: UNS Press. (2009)</p><br>\\n        </div>\\n      </div>\\n\\n      <div class=\"w3-container w3-card-2 w3-white w3-margin-bottom\">\\n        <h2 class=\"w3-text-grey w3-padding-16\"><i class=\"fa fa-certificate fa-fw w3-margin-right w3-xxlarge w3-text-teal\"></i>Education</h2>\\n        <div class=\"w3-container\">\\n          <h5 class=\"w3-opacity\"><b>Gadjah Mada University</b></h5>\\n          <h6 class=\"w3-text-teal\"><i class=\"fa fa-calendar fa-fw w3-margin-right\"></i>2002 - 2004</h6>\\n          <p>Computer Science. Research field: Artificial Intelligent (Master Degree)</p>\\n          <hr>\\n        </div>\\n        <div class=\"w3-container\">\\n          <h5 class=\"w3-opacity\"><b>Sebelas Maret University</b></h5>\\n          <h6 class=\"w3-text-teal\"><i class=\"fa fa-calendar fa-fw w3-margin-right\"></i>1997 - 2001</h6>\\n          <p>Mathematics. Research field: Numerical Methods (Bachelor Degree)</p><br>\\n        </div>\\n      </div>\\n\\n      <div class=\"w3-container w3-card-2 w3-white\">\\n        <h2 class=\"w3-text-grey w3-padding-16\"><i class=\"fa fa-certificate fa-fw w3-margin-right w3-xxlarge w3-text-teal\"></i>Current Projects</h2>\\n        <div class=\"w3-container\">\\n          <h5 class=\"w3-opacity\"><b>GAMPSMS</b></h5>\\n          <h6 class=\"w3-text-teal\"><i class=\"fa fa-calendar fa-fw w3-margin-right\"></i>2010 - Current</h6>\\n          <p>Developing an application for SMS Center. Please visit <a href=\"http://gampsms.rosihanari.net\">http://gampsms.rosihanari.net</a> for details.</p>\\n          <hr>\\n        </div>\\n        <div class=\"w3-container\">\\n          <h5 class=\"w3-opacity\"><b>SMS API</b></h5>\\n          <h6 class=\"w3-text-teal\"><i class=\"fa fa-calendar fa-fw w3-margin-right\"></i>2014 - Current</h6>\\n          <p>Developing a system for SMS (Short Message Service) API that can be integrated to any systems. Please visit <a href=\"http://smsapi.rosihanari.net\">http://smsapi.rosihanari.net</a> for details.</p><br>\\n        </div>\\n      </div>\\n\\n     <div class=\"w3-container w3-card-2 w3-white\">\\n        <h2 class=\"w3-text-grey w3-padding-16\"><i class=\"fa fa-certificate fa-fw w3-margin-right w3-xxlarge w3-text-teal\"></i>Certificates & Badges</h2>\\n        <div class=\"w3-container\">\\n          \\t<div data-iframe-width=\"300\" data-iframe-height=\"270\" data-share-badge-id=\"57723e83-ed13-45ca-96c6-0c1fbc8ecfe4\"></div>\\n \\t\\t <script type=\"text/javascript\">\\n  \\t\\t  (function() {\\n      var s = document.createElement(\\'script\\');\\n      s.type = \\'text/javascript\\';\\n      s.async = true;\\n      s.src = \\'//cdn.youracclaim.com/assets/utilities/embed.js\\';\\n      var o = document.getElementsByTagName(\\'script\\')[0];\\n      o.parentNode.insertBefore(s, o);\\n      })();\\n  </script>\\n\\n\\t  <div data-iframe-width=\"300\" data-iframe-height=\"270\" data-share-badge-id=\"c68dbb4d-3fa2-4391-9c3b-65e5fe2f2326\"></div>\\n  <script type=\"text/javascript\">\\n    (function() {\\n      var s = document.createElement(\\'script\\');\\n      s.type = \\'text/javascript\\';\\n      s.async = true;\\n      s.src = \\'//cdn.youracclaim.com/assets/utilities/embed.js\\';\\n      var o = document.getElementsByTagName(\\'script\\')[0];\\n      o.parentNode.insertBefore(s, o);\\n      })();\\n  </script>\\n\\n  <div data-iframe-width=\"300\" data-iframe-height=\"270\" data-share-badge-id=\"5cf9e3f5-2774-4e63-8e52-79b8f1e893ac\"></div><script type=\"text/javascript\" async src=\"//cdn.youracclaim.com/assets/utilities/embed.js\"></script>\\n\\n  <div data-iframe-width=\"300\" data-iframe-height=\"270\" data-share-badge-id=\"0c2faf6c-bb8f-43c2-8068-4a365141a8e6\"></div><script type=\"text/javascript\" async src=\"//cdn.youracclaim.com/assets/utilities/embed.js\"></script>\\n\\t\\n        </div>\\n\\n\\t<div class=\"w3-container\">\\n          <h5 class=\"w3-opacity\"><b>Data Analyst in Python (@DataQuest.io)</b></h5>\\n          <h6 class=\"w3-text-teal\"><i class=\"fa fa-calendar fa-fw w3-margin-right\"></i>Mar 21, 2019 </h6>\\n          <p>Python For Data Science: Fundamentals Course <a href=\"https://app.dataquest.io/view_cert/3HNEX3D09WJIME1I80JM/\">(View Certificate)</a></p>\\n\\t  \\t  <h6 class=\"w3-text-teal\"><i class=\"fa fa-calendar fa-fw w3-margin-right\"></i>Mar 23, 2019 </h6>\\n          <p>Python For Data Science: Intermediate Course <a href=\"https://app.dataquest.io/view_cert/JVEYE03OWGYYVAW2WGFS/\">(View Certificate)</a></p>\\n\\t  \\t  <p></p>\\n        </div>\\n\\n      </div>\\n\\n     \\n\\n\\n    <!-- End Right Column -->\\n    </div>\\n    \\n  <!-- End Grid -->\\n  </div>\\n  \\n  <!-- End Page Container -->\\n</div>\\n\\n<footer class=\"w3-container w3-teal w3-center w3-margin-top\">\\n  <p>&copy; Copyright 2016. <a href=\"http://rosihanari.net\">RosihanAri.Net</a></p>\\n</footer>\\n \\n</body>\\n</html> \\n'\n"
     ]
    }
   ],
   "source": [
    "print(htmlResourse)"
   ]
  },
  {
   "cell_type": "code",
   "execution_count": 76,
   "metadata": {},
   "outputs": [],
   "source": [
    "response = urlopen(\"https://data.cityofnewyork.us/resource/9d9t-bmk7.json\")\n",
    "html = response.read()\n",
    "response.close()"
   ]
  },
  {
   "cell_type": "code",
   "execution_count": 77,
   "metadata": {},
   "outputs": [],
   "source": [
    "jsonData = html.decode(\"utf-8\")"
   ]
  },
  {
   "cell_type": "code",
   "execution_count": 78,
   "metadata": {},
   "outputs": [
    {
     "output_type": "stream",
     "name": "stdout",
     "text": [
      "[{\"borough\":\"Bronx\",\"facility_name\":\"Concourse\",\"street_address\":\"1365 Jerome Avenue\",\"city\":\"Bronx\",\"state\":\"NY\",\"zip_code\":\"10452\",\"phone_number_s\":\"929-252-8991\",\"latitude\":\"40.839604\",\"longitude\":\"-73.918421\",\"community_board\":\"4\",\"community_council\":\"16\",\"census_tract\":\"219\",\"bin\":\"2008289\",\"bbl\":\"2028560020\",\"nta\":\"Highbridge\"}\n,{\"borough\":\"Bronx\",\"facility_name\":\"Crotona\",\"street_address\":\"1910 Monterey Avenue\",\"city\":\"Bronx\",\"state\":\"NY\",\"zip_code\":\"10457\",\"phone_number_s\":\"929-252-7310 | 929-252-7511\",\"comments\":\"This center includes a children's area that does not provide supervision.\",\"latitude\":\"40.846932\",\"longitude\":\"-73.895099\",\"community_board\":\"6\",\"community_council\":\"15\",\"census_tract\":\"37504\",\"bin\":\"2011826\",\"bbl\":\"2030600032\",\"nta\":\"East Tremont\"}\n,{\"borough\":\"Bronx\",\"facility_name\":\"Fordham\",\"street_address\":\"2541-2549 Bainbridge Avenue\",\"city\":\"Bronx\",\"state\":\"NY\",\"zip_code\":\"10458\",\"phone_number_s\":\"929-252-3331 | 929-252-3332\",\"comments\":\"This center includes a Children's Corner, which provides supervision during limited hours.\",\"latitude\":\"40.862345\",\"longitude\":\"-73.89335\",\"community_board\":\"7\",\"community_council\":\"15\",\"census_tract\":\"39901\",\"bin\":\"2016777\",\"bbl\":\"2032930008\",\"nta\":\"Bedford Park-Fordham North\"}\n,{\"borough\":\"Bronx\",\"facility_name\":\"Rider\",\"street_address\":\"300 Canal Place\",\"city\":\"Bronx\",\"state\":\"NY\",\"zip_code\":\"10451\",\"phone_number_s\":\"718-742-3924\",\"latitude\":\"40.813153\",\"longitude\":\"-73.927579\",\"community_board\":\"1\",\"community_council\":\"8\",\"census_tract\":\"51\",\"bin\":\"2000978\",\"bbl\":\"2023400072\",\"nta\":\"Mott Haven-Port Morris\"}\n,{\"borough\":\"Bronx\",\"facility_name\":\"Hunts Point\",\"street_address\":\"847 Barretto Street\",\"city\":\"Bronx\",\"state\":\"NY\",\"zip_code\":\"10474\",\"phone_number_s\":\"929-252-4349 | 929-252-4352\",\"latitude\":\"40.817689\",\"longitude\":\"-73.890379\",\"community_board\":\"2\",\"community_council\":\"17\",\"census_tract\":\"93\",\"bin\":\"2005939\",\"bbl\":\"2027390015\",\"nta\":\"Hunts Point\"}\n,{\"borough\":\"Bronx\",\"facility_name\":\"Family Services Call Center, Bronx Satellite\",\"street_address\":\"847 Barretto Street\",\"city\":\"Bronx\",\"state\":\"NY\",\"zip_code\":\"10474\",\"phone_number_s\":\"929-252-4269 | 718-883-8296\",\"comments\":\"Primarily handles face to face recertifications and emergency walk-in activities for the Family Call Center's active child only cases whose payees are not in receipt of cash assistance.\",\"latitude\":\"40.817689\",\"longitude\":\"-73.890379\",\"community_board\":\"2\",\"community_council\":\"17\",\"census_tract\":\"93\",\"bin\":\"2005939\",\"bbl\":\"2027390015\",\"nta\":\"Hunts Point\"}\n,{\"borough\":\"Brooklyn\",\"facility_name\":\"Bushwick\",\"street_address\":\"2 George St\",\"city\":\"Brooklyn\",\"state\":\"NY\",\"zip_code\":\"11206\",\"phone_number_s\":\"212-331-4289 | 212-331-4280\",\"comments\":\"This center includes a children's area that does not provide supervision.\",\"latitude\":\"40.70004\",\"longitude\":\"-73.93273\",\"community_board\":\"4\",\"community_council\":\"34\",\"census_tract\":\"425\",\"bin\":\"3071940\",\"bbl\":\"3031560001\",\"nta\":\"Bushwick South\"}\n,{\"borough\":\"Brooklyn\",\"facility_name\":\"Transportation Unit\",\"street_address\":\"25 Chapel Street, 6th Fl.\",\"city\":\"Brooklyn\",\"state\":\"NY\",\"zip_code\":\"11201\",\"phone_number_s\":\"718-222-2430\",\"latitude\":\"40.697254\",\"longitude\":\"-73.986015\",\"community_board\":\"2\",\"community_council\":\"33\",\"census_tract\":\"13\",\"bin\":\"3335884\",\"bbl\":\"3001180006\",\"nta\":\"DUMBO-Vinegar Hill-Downtown Brooklyn-Boerum Hill\"}\n,{\"borough\":\"Brooklyn\",\"facility_name\":\"Michael J. Handy Veterans' Service Center\",\"street_address\":\"25 Chapel Street, 6th Fl., Room 606\",\"city\":\"Brooklyn\",\"state\":\"NY\",\"zip_code\":\"11201\",\"phone_number_s\":\"718-473-8313 | 718-222-2430\",\"comments\":\"Primarily services cash assistance recipient cases in which at least one household member is a Veteran.\",\"latitude\":\"40.697254\",\"longitude\":\"-73.986015\",\"community_board\":\"2\",\"community_council\":\"33\",\"census_tract\":\"13\",\"bin\":\"3335884\",\"bbl\":\"3001180006\",\"nta\":\"DUMBO-Vinegar Hill-Downtown Brooklyn-Boerum Hill\"}\n,{\"borough\":\"Brooklyn\",\"facility_name\":\"Dekalb\",\"street_address\":\"275 Bergen Street\",\"city\":\"Brooklyn\",\"state\":\"NY\",\"zip_code\":\"11217\",\"phone_number_s\":\"718-636-2495 | 929-221-0565\",\"comments\":\"This center includes a Children's Corner, which provides supervision during limited hours.\",\"latitude\":\"40.683749\",\"longitude\":\"-73.982816\",\"community_board\":\"2\",\"community_council\":\"33\",\"census_tract\":\"39\",\"bin\":\"3335918\",\"bbl\":\"3001970028\",\"nta\":\"DUMBO-Vinegar Hill-Downtown Brooklyn-Boerum Hill\"}\n,{\"borough\":\"Brooklyn\",\"facility_name\":\"Coney Island\",\"street_address\":\"3050 West 21st Street\",\"city\":\"Brooklyn\",\"state\":\"NY\",\"zip_code\":\"11224\",\"phone_number_s\":\"929-221-3856 | 929-221-3867\",\"comments\":\"This center includes a children's area that does not provide supervision.\",\"latitude\":\"40.57353\",\"longitude\":\"-73.987448\",\"community_board\":\"13\",\"community_council\":\"47\",\"census_tract\":\"352\",\"bin\":\"3189654\",\"bbl\":\"3070710123\",\"nta\":\"Seagate-Coney Island\"}\n,{\"borough\":\"Brooklyn\",\"facility_name\":\"Southern Brooklyn\",\"street_address\":\"35 Fourth Avenue\",\"city\":\"Brooklyn\",\"state\":\"NY\",\"zip_code\":\"11217\",\"phone_number_s\":\"929-252-3514 | 929-252-3512\",\"latitude\":\"40.683419\",\"longitude\":\"-73.97898\",\"community_board\":\"6\",\"community_council\":\"9\",\"census_tract\":\"12901\",\"bin\":\"3018375\",\"bbl\":\"3009280001\",\"nta\":\"Park Slope-Gowanus\"}\n,{\"borough\":\"Brooklyn\",\"facility_name\":\"Family Services Call Center, Brooklyn Satellite\",\"street_address\":\"404 Pine Street, 3rd Fl.\",\"city\":\"Brooklyn\",\"state\":\"NY\",\"zip_code\":\"11208\",\"phone_number_s\":\"929-221-8265/8270 | 718-883-8296\",\"comments\":\"Primarily handles face to face recertifications and emergency walk-in activities for the Family Call Center's active child only cases whose payees are not in receipt of cash assistance. This center includes a children's area that does not provide supervision.\",\"latitude\":\"40.67588\",\"longitude\":\"-73.871091\",\"community_board\":\"5\",\"community_council\":\"42\",\"census_tract\":\"1196\",\"bin\":\"3094690\",\"bbl\":\"3042140001\",\"nta\":\"East New York\"}\n,{\"borough\":\"Brooklyn\",\"facility_name\":\"Clinton Hill\",\"street_address\":\"495 Clermont Ave\",\"city\":\"Brooklyn\",\"state\":\"NY\",\"zip_code\":\"11238\",\"phone_number_s\":\"929-221-1568 | 929-221-2809\",\"comments\":\"This center includes a Children's Corner, which provides supervision during limited hours.\",\"latitude\":\"40.682851\",\"longitude\":\"-73.968809\",\"community_board\":\"2\",\"community_council\":\"35\",\"census_tract\":\"199\",\"bin\":\"3335094\",\"bbl\":\"3020090001\",\"nta\":\"Clinton Hill\"}\n,{\"borough\":\"Manhattan\",\"facility_name\":\"Union Square\",\"street_address\":\"109 E. 16th Street\",\"city\":\"New York\",\"state\":\"NY\",\"zip_code\":\"10003\",\"phone_number_s\":\"929-252-5580 | 929-252-5520\",\"comments\":\"Primarily serves individuals identified as having significant barriers to employment and needing specialized services. This center includes a children's area that does not provide supervision.\",\"latitude\":\"40.735681\",\"longitude\":\"-73.988713\",\"community_board\":\"5\",\"community_council\":\"2\",\"census_tract\":\"50\",\"bin\":\"1017821\",\"bbl\":\"1008720013\",\"nta\":\"Gramercy\"}\n,{\"borough\":\"Manhattan\",\"facility_name\":\"Residential Treatment Service Center\",\"street_address\":\"109 E. 16th Street\",\"city\":\"New York\",\"state\":\"NY\",\"zip_code\":\"10003\",\"phone_number_s\":\"929-252-5805 | 929-252-5874\",\"comments\":\"Primarily serves individuals currently residing in a residential treatment facility. This center includes a children's area that does not provide supervision.\",\"latitude\":\"40.735681\",\"longitude\":\"-73.988713\",\"community_board\":\"5\",\"community_council\":\"2\",\"census_tract\":\"50\",\"bin\":\"1017821\",\"bbl\":\"1008720013\",\"nta\":\"Gramercy\"}\n,{\"borough\":\"Manhattan\",\"facility_name\":\"Home Visit Needed/Reasonable Accommodations Request Operations\",\"street_address\":\"109 E. 16th Street\",\"city\":\"New York\",\"state\":\"NY\",\"zip_code\":\"10003\",\"phone_number_s\":\"929-252-6704\",\"comments\":\"Applicants and participants are not seen at this location.\",\"latitude\":\"40.735681\",\"longitude\":\"-73.988713\",\"community_board\":\"5\",\"community_council\":\"2\",\"census_tract\":\"50\",\"bin\":\"1017821\",\"bbl\":\"1008720013\",\"nta\":\"Gramercy\"}\n,{\"borough\":\"Manhattan\",\"facility_name\":\"Special Project Center\",\"street_address\":\"109 E. 16th Street\",\"city\":\"New York\",\"state\":\"NY\",\"zip_code\":\"10003\",\"phone_number_s\":\"929-252-5775 | 929-252-5742\",\"comments\":\"Primarily serves ACS youth that have been referred.\",\"latitude\":\"40.735681\",\"longitude\":\"-73.988713\",\"community_board\":\"5\",\"community_council\":\"2\",\"census_tract\":\"50\",\"bin\":\"1017821\",\"bbl\":\"1008720013\",\"nta\":\"Gramercy\"}\n,{\"borough\":\"Manhattan\",\"facility_name\":\"Waverly\",\"street_address\":\"12 West 14th Street\",\"city\":\"New York\",\"state\":\"NY\",\"zip_code\":\"10011\",\"phone_number_s\":\"212-652-1551 | 212-620-9224\",\"comments\":\"This center includes a Children's Corner, which provides supervision during limited hours.\",\"latitude\":\"40.736301\",\"longitude\":\"-73.994342\",\"community_board\":\"2\",\"community_council\":\"3\",\"census_tract\":\"63\",\"bin\":\"1009716\",\"bbl\":\"1005770034\",\"nta\":\"West Village\"}\n,{\"borough\":\"Manhattan\",\"facility_name\":\"St. Nicholas\",\"street_address\":\"132 W. 125th Street\",\"city\":\"New York\",\"state\":\"NY\",\"zip_code\":\"10027\",\"phone_number_s\":\"212-666-4970 | 212-274-5162\",\"latitude\":\"40.808451\",\"longitude\":\"-73.947112\",\"community_board\":\"10\",\"community_council\":\"9\",\"census_tract\":\"222\",\"bin\":\"1057820\",\"bbl\":\"1019090012\",\"nta\":\"Central Harlem South\"}\n,{\"borough\":\"Manhattan\",\"facility_name\":\"Family Services Call Center, Manhattan Satellite\",\"street_address\":\"132 W. 125th Street\",\"city\":\"New York\",\"state\":\"NY\",\"zip_code\":\"10027\",\"phone_number_s\":\"212-666-7566 | 718-883-8296\",\"comments\":\"Primarily handles face to face recertifications and emergency walk-in activities for the Family Call Center’s active child only cases whose payees are not in receipt of cash assistance.\",\"latitude\":\"40.808451\",\"longitude\":\"-73.947112\",\"community_board\":\"10\",\"community_council\":\"9\",\"census_tract\":\"222\",\"bin\":\"1057820\",\"bbl\":\"1019090012\",\"nta\":\"Central Harlem South\"}\n,{\"borough\":\"Manhattan\",\"facility_name\":\"East End\",\"street_address\":\"2322 Third Avenue\",\"city\":\"New York\",\"state\":\"NY\",\"zip_code\":\"10035\",\"phone_number_s\":\"212-860-6801 | 212-860-6808\",\"comments\":\"This center includes a Children's Corner, which provides supervision during limited hours.\",\"latitude\":\"40.804468\",\"longitude\":\"-73.935267\",\"community_board\":\"11\",\"community_council\":\"9\",\"census_tract\":\"242\",\"bin\":\"1054497\",\"bbl\":\"1017750033\",\"nta\":\"East Harlem North\"}\n,{\"borough\":\"Manhattan\",\"facility_name\":\"Dyckman\",\"street_address\":\"4055 10th Avenue\",\"city\":\"New York\",\"state\":\"NY\",\"zip_code\":\"10034\",\"phone_number_s\":\"212-569-9627 | 212-569-9626\",\"comments\":\"This center includes a Children's Corner, which provides supervision during limited hours.\",\"latitude\":\"40.870388\",\"longitude\":\"-73.914561\",\"community_board\":\"12\",\"community_council\":\"10\",\"census_tract\":\"299\",\"bin\":\"1064513\",\"bbl\":\"1022130001\",\"nta\":\"Marble Hill-Inwood\"}\n,{\"borough\":\"Queens\",\"facility_name\":\"Jamaica\",\"street_address\":\"165-08 88th Avenue\",\"city\":\"Queens\",\"state\":\"NY\",\"zip_code\":\"11432\",\"phone_number_s\":\"718-523-2146 | 718-883-8250\",\"comments\":\"This center includes a Children's Corner, which provides supervision during limited hours.\",\"latitude\":\"40.708661\",\"longitude\":\"-73.796703\",\"community_board\":\"12\",\"community_council\":\"27\",\"census_tract\":\"460\",\"bin\":\"4210062\",\"bbl\":\"4098150056\",\"nta\":\"Jamaica\"}\n,{\"borough\":\"Queens\",\"facility_name\":\"Family Service Call Center\",\"street_address\":\"165-08 88th Avenue 5th Fl.\",\"city\":\"Queens\",\"state\":\"NY\",\"zip_code\":\"11432\",\"phone_number_s\":\"718-752-3937 | 718-883-8296\",\"comments\":\"Primarily a mail and phone operation servicing active child only cases whose payees are not in receipt of cash assistance.\",\"latitude\":\"40.708661\",\"longitude\":\"-73.796703\",\"community_board\":\"12\",\"community_council\":\"27\",\"census_tract\":\"460\",\"bin\":\"4210062\",\"bbl\":\"4098150056\",\"nta\":\"Jamaica\"}\n,{\"borough\":\"Queens\",\"facility_name\":\"Rockaway\",\"street_address\":\"219 Beach 59th Street\",\"city\":\"Queens\",\"state\":\"NY\",\"zip_code\":\"11692\",\"phone_number_s\":\"718-637-2144 | 718-637-2140\",\"comments\":\"This center includes a Children's Corner, which provides supervision during limited hours.\",\"latitude\":\"40.592902\",\"longitude\":\"-73.789051\",\"community_board\":\"14\",\"community_council\":\"31\",\"census_tract\":\"964\",\"bin\":\"4301932\",\"bbl\":\"4159000008\",\"nta\":\"Hammels-Arverne-Edgemere\"}\n,{\"borough\":\"Queens\",\"facility_name\":\"Queens\",\"street_address\":\"32-20 Northern Blvd, 4th Floor\",\"city\":\"Queens\",\"state\":\"NY\",\"zip_code\":\"11101\",\"phone_number_s\":\"718-784-5919 | 718-784-6043\",\"latitude\":\"40.75197\",\"longitude\":\"-73.931799\",\"community_board\":\"1\",\"community_council\":\"26\",\"census_tract\":\"171\",\"bin\":\"4003105\",\"bbl\":\"4002147501\",\"nta\":\"Hunters Point-Sunnyside-West Maspeth\"}\n,{\"borough\":\"Queens\",\"facility_name\":\"Refugee and Immigrant Service Center\",\"street_address\":\"32-20 Northern Boulevard\",\"city\":\"Queens\",\"state\":\"NY\",\"zip_code\":\"11101\",\"phone_number_s\":\"929-221-4902\",\"comments\":\"This center includes a Children's Corner, which provides supervision during limited hours.\",\"latitude\":\"40.75197\",\"longitude\":\"-73.931799\",\"community_board\":\"1\",\"community_council\":\"26\",\"census_tract\":\"171\",\"bin\":\"4003105\",\"bbl\":\"4002147501\",\"nta\":\"Hunters Point-Sunnyside-West Maspeth\"}\n,{\"borough\":\"Queens\",\"facility_name\":\"Family Services Call Center, Queens Satellite\",\"street_address\":\"32-20 Northern Boulevard\",\"city\":\"Queens\",\"state\":\"NY\",\"zip_code\":\"11101\",\"phone_number_s\":\"718-752-3937| 718-883-8296\",\"comments\":\"Primarily handles face to face recertifications and emergency walk-in activities for the Family Call Center's active child only cases whose payees are not in receipt of cash assistance.\",\"latitude\":\"40.75197\",\"longitude\":\"-73.931799\",\"community_board\":\"1\",\"community_council\":\"26\",\"census_tract\":\"171\",\"bin\":\"4003105\",\"bbl\":\"4002147501\",\"nta\":\"Hunters Point-Sunnyside-West Maspeth\"}\n,{\"borough\":\"Staten Island\",\"facility_name\":\"Richmond\",\"street_address\":\"201 Bay Street\",\"city\":\"Staten Island\",\"state\":\"NY\",\"zip_code\":\"10301\",\"phone_number_s\":\"929-221-7915 | 929-221-7906\",\"latitude\":\"40.636992\",\"longitude\":\"-74.076212\",\"community_board\":\"1\",\"community_council\":\"49\",\"census_tract\":\"21\",\"bin\":\"5013238\",\"bbl\":\"5004970009\",\"nta\":\"Stapleton-Rosebank\"}]\n\n"
     ]
    }
   ],
   "source": [
    "print(jsonData)"
   ]
  },
  {
   "cell_type": "code",
   "execution_count": 79,
   "metadata": {},
   "outputs": [
    {
     "output_type": "stream",
     "name": "stdout",
     "text": [
      "29\nConcourse\nCrotona\nFordham\nRider\nHunts Point\nFamily Services Call Center, Bronx Satellite\nBushwick\nTransportation Unit\nDekalb\nConey Island\nSouthern Brooklyn\nFamily Services Call Center, Brooklyn Satellite\nClinton Hill\nUnion Square\nResidential Treatment Service Center\nHome Visit Needed/Reasonable Accommodations Request Operations\nSpecial Project Center\nWaverly\nSt. Nicholas\nFamily Services Call Center, Manhattan Satellite\nEast End\nDyckman\nJamaica\nFamily Service Call Center\nRockaway\nQueens\nRefugee and Immigrant Service Center\nFamily Services Call Center, Queens Satellite\nRichmond\n"
     ]
    }
   ],
   "source": [
    "facility_pattern = re.compile(r\"\\\"facility_name\\\":\\\"[\\w\\s\\,\\/\\.]+\\\"\")\n",
    "facility_match = re.findall(facility_pattern, jsonData)\n",
    "print(len(facility_match))\n",
    "for match in facility_match:\n",
    "    print(match[match.find(\":\")+2:-1])"
   ]
  },
  {
   "cell_type": "code",
   "execution_count": 80,
   "metadata": {
    "tags": []
   },
   "outputs": [
    {
     "output_type": "stream",
     "name": "stdout",
     "text": [
      "29\n929-252-899\n929-252-7310 | 929-252-751\n929-252-3331 | 929-252-333\n718-742-392\n929-252-4349 | 929-252-435\n929-252-4269 | 718-883-829\n212-331-4289 | 212-331-428\n718-222-243\n718-473-8313 | 718-222-243\n718-636-2495 | 929-221-056\n929-221-3856 | 929-221-386\n929-252-3514 | 929-252-351\n929-221-1568 | 929-221-280\n929-252-5580 | 929-252-552\n929-252-5805 | 929-252-587\n929-252-670\n929-252-5775 | 929-252-574\n212-652-1551 | 212-620-922\n212-666-4970 | 212-274-516\n212-666-7566 | 718-883-829\n212-860-6801 | 212-860-680\n212-569-9627 | 212-569-962\n718-523-2146 | 718-883-825\n718-752-3937 | 718-883-829\n718-637-2144 | 718-637-214\n718-784-5919 | 718-784-604\n929-221-490\n718-752-3937| 718-883-829\n929-221-7915 | 929-221-790\n"
     ]
    }
   ],
   "source": [
    "phone_pattern = re.compile(r\"\\\"phone_number_s\\\":\\\"[\\d\\-]+[\\s\\|\\d\\-]{0,}\\\"\")\n",
    "#phone_pattern = re.compile(r\"[\\d]{3}-[\\d]{3}-[\\d]{4}\")\n",
    "phone_match = re.findall(phone_pattern, jsonData)\n",
    "print(len(phone_match))\n",
    "for match in phone_match:\n",
    "    print(match[match.find(\":\")+2:-2])\n",
    "\n"
   ]
  },
  {
   "cell_type": "code",
   "execution_count": 87,
   "metadata": {},
   "outputs": [],
   "source": [
    "newJson = {}\n",
    "counter = 0\n",
    "for facility, phone in zip(facility_match, phone_match):\n",
    "    data = []\n",
    "    data.append(\"facility_name :\" + facility[facility.find(\":\")+2:-1])\n",
    "    if \"|\" in phone:\n",
    "        phone1, phone2 = phone[phone.find(\":\")+2:-1].split(\"|\")\n",
    "    else :\n",
    "        phone1 = phone[phone.find(\":\")+2:-1]\n",
    "        phone2 = \"None\"\n",
    "    data.append(\"phone_1 : \" + phone1)\n",
    "    data.append(\"phone_2 : \" + phone2)\n",
    "    newJson[counter] = data\n",
    "    counter +=1\n"
   ]
  },
  {
   "cell_type": "code",
   "execution_count": 88,
   "metadata": {},
   "outputs": [
    {
     "output_type": "stream",
     "name": "stdout",
     "text": [
      "{0: ['facility_name :Concourse', 'phone_1 : 929-252-8991', 'phone_2 : None'], 1: ['facility_name :Crotona', 'phone_1 : 929-252-7310 ', 'phone_2 :  929-252-7511'], 2: ['facility_name :Fordham', 'phone_1 : 929-252-3331 ', 'phone_2 :  929-252-3332'], 3: ['facility_name :Rider', 'phone_1 : 718-742-3924', 'phone_2 : None'], 4: ['facility_name :Hunts Point', 'phone_1 : 929-252-4349 ', 'phone_2 :  929-252-4352'], 5: ['facility_name :Family Services Call Center, Bronx Satellite', 'phone_1 : 929-252-4269 ', 'phone_2 :  718-883-8296'], 6: ['facility_name :Bushwick', 'phone_1 : 212-331-4289 ', 'phone_2 :  212-331-4280'], 7: ['facility_name :Transportation Unit', 'phone_1 : 718-222-2430', 'phone_2 : None'], 8: ['facility_name :Dekalb', 'phone_1 : 718-473-8313 ', 'phone_2 :  718-222-2430'], 9: ['facility_name :Coney Island', 'phone_1 : 718-636-2495 ', 'phone_2 :  929-221-0565'], 10: ['facility_name :Southern Brooklyn', 'phone_1 : 929-221-3856 ', 'phone_2 :  929-221-3867'], 11: ['facility_name :Family Services Call Center, Brooklyn Satellite', 'phone_1 : 929-252-3514 ', 'phone_2 :  929-252-3512'], 12: ['facility_name :Clinton Hill', 'phone_1 : 929-221-1568 ', 'phone_2 :  929-221-2809'], 13: ['facility_name :Union Square', 'phone_1 : 929-252-5580 ', 'phone_2 :  929-252-5520'], 14: ['facility_name :Residential Treatment Service Center', 'phone_1 : 929-252-5805 ', 'phone_2 :  929-252-5874'], 15: ['facility_name :Home Visit Needed/Reasonable Accommodations Request Operations', 'phone_1 : 929-252-6704', 'phone_2 : None'], 16: ['facility_name :Special Project Center', 'phone_1 : 929-252-5775 ', 'phone_2 :  929-252-5742'], 17: ['facility_name :Waverly', 'phone_1 : 212-652-1551 ', 'phone_2 :  212-620-9224'], 18: ['facility_name :St. Nicholas', 'phone_1 : 212-666-4970 ', 'phone_2 :  212-274-5162'], 19: ['facility_name :Family Services Call Center, Manhattan Satellite', 'phone_1 : 212-666-7566 ', 'phone_2 :  718-883-8296'], 20: ['facility_name :East End', 'phone_1 : 212-860-6801 ', 'phone_2 :  212-860-6808'], 21: ['facility_name :Dyckman', 'phone_1 : 212-569-9627 ', 'phone_2 :  212-569-9626'], 22: ['facility_name :Jamaica', 'phone_1 : 718-523-2146 ', 'phone_2 :  718-883-8250'], 23: ['facility_name :Family Service Call Center', 'phone_1 : 718-752-3937 ', 'phone_2 :  718-883-8296'], 24: ['facility_name :Rockaway', 'phone_1 : 718-637-2144 ', 'phone_2 :  718-637-2140'], 25: ['facility_name :Queens', 'phone_1 : 718-784-5919 ', 'phone_2 :  718-784-6043'], 26: ['facility_name :Refugee and Immigrant Service Center', 'phone_1 : 929-221-4902', 'phone_2 : None'], 27: ['facility_name :Family Services Call Center, Queens\\xa0Satellite', 'phone_1 : 718-752-3937', 'phone_2 :  718-883-8296'], 28: ['facility_name :Richmond', 'phone_1 : 929-221-7915 ', 'phone_2 :  929-221-7906']}\n"
     ]
    }
   ],
   "source": [
    "print(newJson)"
   ]
  },
  {
   "cell_type": "code",
   "execution_count": null,
   "metadata": {},
   "outputs": [],
   "source": []
  }
 ]
}