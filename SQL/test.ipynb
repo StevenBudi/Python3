{
 "metadata": {
  "language_info": {
   "codemirror_mode": {
    "name": "ipython",
    "version": 3
   },
   "file_extension": ".py",
   "mimetype": "text/x-python",
   "name": "python",
   "nbconvert_exporter": "python",
   "pygments_lexer": "ipython3",
   "version": "3.8.3-final"
  },
  "orig_nbformat": 2,
  "kernelspec": {
   "name": "python3",
   "display_name": "Python 3",
   "language": "python"
  }
 },
 "nbformat": 4,
 "nbformat_minor": 2,
 "cells": [
  {
   "cell_type": "code",
   "execution_count": null,
   "metadata": {},
   "outputs": [],
   "source": [
    "import pymysql as pm"
   ]
  },
  {
   "source": [
    "## Open Connection"
   ],
   "cell_type": "markdown",
   "metadata": {}
  },
  {
   "cell_type": "code",
   "execution_count": 91,
   "metadata": {},
   "outputs": [],
   "source": [
    "db = pm.connect(host=\"localhost\", port=3306, user=\"root\", passwd=\"budi\", database=\"db_budi\")"
   ]
  },
  {
   "source": [
    "## Cursor"
   ],
   "cell_type": "markdown",
   "metadata": {}
  },
  {
   "cell_type": "code",
   "execution_count": 92,
   "metadata": {},
   "outputs": [],
   "source": [
    "cursor = db.cursor()"
   ]
  },
  {
   "source": [
    "## Addding data"
   ],
   "cell_type": "markdown",
   "metadata": {}
  },
  {
   "source": [
    "sql = \"INSERT INTO mhs VALUES ('K3519076', 'Steven Budi Sanjaya', 'Semarang', '2000-04-16')\"\n",
    "try:\n",
    "    cursor.execute(sql)\n",
    "    db.commit()\n",
    "    print(\"Success\")\n",
    "except:\n",
    "    print(\"Error in adding data\")\n",
    "    db.rollback()\n"
   ],
   "cell_type": "code",
   "metadata": {},
   "execution_count": null,
   "outputs": []
  },
  {
   "source": [
    "## Delete Data"
   ],
   "cell_type": "markdown",
   "metadata": {}
  },
  {
   "cell_type": "code",
   "execution_count": null,
   "metadata": {},
   "outputs": [],
   "source": [
    "nim = \"K3519076\"\n",
    "sql = \"DELETE FROM mhs WHERE nim = %s\"\n",
    "try :\n",
    "    cursor.execute(sql ,nim)\n",
    "    db.commit()\n",
    "    print(\"Success\")\n",
    "\n",
    "except :\n",
    "    print(\"Error in deleting data\")\n",
    "    db.rollback()"
   ]
  },
  {
   "source": [
    "## Update Data"
   ],
   "cell_type": "markdown",
   "metadata": {}
  },
  {
   "cell_type": "code",
   "execution_count": null,
   "metadata": {},
   "outputs": [],
   "source": [
    "nama = \"%Thrawn%\"\n",
    "nim = \"K3519080\"\n",
    "value = (nim,nama)\n",
    "sql = \"UPDATE mhs SET alamat ='Aldeeran' WHERE nim = %s AND nama LIKE %s\"\n",
    "\n",
    "try:\n",
    "    cursor.execute(sql,value)\n",
    "    db.commit()\n",
    "    print(\"Success\")\n",
    "except:\n",
    "    print(\"Error in updating data\")\n",
    "    db.rollback()"
   ]
  },
  {
   "source": [
    "## Fetch single data"
   ],
   "cell_type": "markdown",
   "metadata": {}
  },
  {
   "cell_type": "code",
   "execution_count": 93,
   "metadata": {},
   "outputs": [
    {
     "output_type": "stream",
     "name": "stdout",
     "text": [
      "NIM              :  K3519076\nNAMA             :  Steven Budi Sanjaya\nAlamat           :  Semarang\nTanggal Lahir    :  2000-04-16\n"
     ]
    }
   ],
   "source": [
    "nim = \"K3519076\"\n",
    "sql = \"SELECT * FROM mhs WHERE nim = %s\"\n",
    "\n",
    "try:\n",
    "    cursor.execute(sql,nim)\n",
    "    data = cursor.fetchone()\n",
    "    print(\"NIM              : \", data[0])\n",
    "    print(\"NAMA             : \", data[1])\n",
    "    print(\"Alamat           : \", data[2])\n",
    "    print(\"Tanggal Lahir    : \", data[3])\n",
    "    db.commit()\n",
    "except:\n",
    "    print(\"Error in fetching data\")\n",
    "    db.rollback()\n",
    "    "
   ]
  },
  {
   "source": [
    "## Fetch all data"
   ],
   "cell_type": "markdown",
   "metadata": {}
  },
  {
   "cell_type": "code",
   "execution_count": 101,
   "metadata": {},
   "outputs": [
    {
     "output_type": "stream",
     "name": "stdout",
     "text": [
      "K3519080 Admiral Thrawn                 Aldeeran        18-09-1200\nK3519078 Jono Joni Jontor               Semarang        20-05-2000\nK3519076 Steven Budi Sanjaya            Semarang        16-04-2000\nK3519071 Rosa                           London          12-10-1897\nK3519021 Robin                          Bogor           30-09-2003\nK3519012 Joni                           Bandung         17-03-2004\n----------------------------------------------------------------------\nJumlah Mahasiswa :  6\n"
     ]
    }
   ],
   "source": [
    "sql = \"SELECT * FROM mhs ORDER BY nim DESC\"\n",
    "\n",
    "try :\n",
    "    cursor.execute(sql)\n",
    "    data = cursor.fetchall()\n",
    "    for val in data:\n",
    "        print(val[0].ljust(5), val[1].ljust(30), val[2].ljust(15), val[3].strftime(\"%d-%m-%Y\").ljust(10))\n",
    "    print(\"-\"*70)\n",
    "    print(\"Jumlah Mahasiswa : \", cursor.rowcount)\n",
    "    db.commit()\n",
    "except :\n",
    "    print(\"Error in fetching datas\")\n",
    "    db.rollback()\n"
   ]
  },
  {
   "source": [
    "## Adding Multiple Data"
   ],
   "cell_type": "markdown",
   "metadata": {}
  },
  {
   "cell_type": "code",
   "execution_count": null,
   "metadata": {},
   "outputs": [],
   "source": [
    "data = [(\"K3519071\", \"Rosa\", \"London\", \"1897-10-12\"),\n",
    "        (\"K3519021\", \"Robin\", \"Bogor\", \"2003-09-30\"),\n",
    "        (\"K3519012\", \"Joni\", \"Bandung\", \"2004-03-17\")]\n",
    "sql = \"INSERT INTO mhs VALUES (%s, %s, %s, %s)\" \n",
    "\n",
    "try:\n",
    "    for i in data:\n",
    "        cursor.execute(sql,i)\n",
    "        db.commit()\n",
    "    print(\"Success\")\n",
    "except:\n",
    "    print(\"Error in adding datas\")\n",
    "    db.rollback()"
   ]
  },
  {
   "source": [
    "## Close Connection"
   ],
   "cell_type": "markdown",
   "metadata": {}
  },
  {
   "source": [
    "db.close()"
   ],
   "cell_type": "code",
   "metadata": {},
   "execution_count": 102,
   "outputs": []
  },
  {
   "cell_type": "code",
   "execution_count": null,
   "metadata": {},
   "outputs": [],
   "source": []
  }
 ]
}