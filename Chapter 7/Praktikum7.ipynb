{
 "cells": [
  {
   "cell_type": "code",
   "execution_count": null,
   "metadata": {},
   "outputs": [],
   "source": [
    "file = open(\"myfile.txt\", \"r\")\n",
    "print(file.read())"
   ]
  },
  {
   "cell_type": "code",
   "execution_count": null,
   "metadata": {},
   "outputs": [],
   "source": [
    "try :\n",
    "    file = open(\"data.txt\", \"r\")\n",
    "    num1 = int(file.readline())\n",
    "    num2 = int(file.readline())\n",
    "    result = num1/num2\n",
    "    print(num1, \" divide by\", num2, \"is\", result)\n",
    "except FileNotFoundError :\n",
    "    print(\"File tidak ditemukan\")\n"
   ]
  },
  {
   "cell_type": "code",
   "execution_count": null,
   "metadata": {},
   "outputs": [],
   "source": [
    "try :\n",
    "    file = open(\"data.txt\", \"r\")\n",
    "    sum = 0\n",
    "    for data in file:\n",
    "        sum = sum + int(data)\n",
    "    print(sum)\n",
    "    \n",
    "except ValueError :\n",
    "    print(\"not Valid\")"
   ]
  },
  {
   "cell_type": "code",
   "execution_count": null,
   "metadata": {},
   "outputs": [],
   "source": [
    "fileName = str(input(\"Enter file name : \"))\n",
    "file = open(fileName, \"r\")\n",
    "print(file.read())"
   ]
  },
  {
   "cell_type": "code",
   "execution_count": null,
   "metadata": {},
   "outputs": [],
   "source": [
    "namafile = str(input(\"Enter Filename\"))\n",
    "file = open(namafile, \"a\")\n",
    "while True :\n",
    "    file.write(str(input(\"Input something\")))\n",
    "    print(\"Addmore (y/n) ?\")\n",
    "    pilih = str(input())\n",
    "    if pilih == \"y\" :\n",
    "        continue\n",
    "    if pilih == \"n\" :\n",
    "        file.close()\n",
    "        break"
   ]
  },
  {
   "cell_type": "code",
   "execution_count": null,
   "metadata": {},
   "outputs": [],
   "source": [
    "print(\"-\"*28)\n",
    "print(\"Count Average\")\n",
    "print(\"-\"*28)\n",
    "\n",
    "arr = []\n",
    "try:\n",
    "    while True:\n",
    "        bil = int(input(\"Number : \"))\n",
    "        arr.append(bil)\n",
    "        conf = input(\"Add More ? (y/n)\")\n",
    "        if conf == \"y\":\n",
    "            continue\n",
    "        else :\n",
    "            break\n",
    "    print(sum(arr)/len(arr))\n",
    "except TypeError:\n",
    "    print(\"Input not valid\")\n",
    "\n",
    "    "
   ]
  },
  {
   "cell_type": "code",
   "execution_count": null,
   "metadata": {},
   "outputs": [],
   "source": []
  }
 ],
 "metadata": {
  "kernelspec": {
   "name": "python3",
   "display_name": "Python 3.9.5 64-bit"
  },
  "language_info": {
   "codemirror_mode": {
    "name": "ipython",
    "version": 3
   },
   "file_extension": ".py",
   "mimetype": "text/x-python",
   "name": "python",
   "nbconvert_exporter": "python",
   "pygments_lexer": "ipython3",
   "version": "3.9.5"
  },
  "interpreter": {
   "hash": "8da01e5a71448ea74f54d88afa8911010d1d12e23bc7e103d40d5def4a09152c"
  }
 },
 "nbformat": 4,
 "nbformat_minor": 2
}